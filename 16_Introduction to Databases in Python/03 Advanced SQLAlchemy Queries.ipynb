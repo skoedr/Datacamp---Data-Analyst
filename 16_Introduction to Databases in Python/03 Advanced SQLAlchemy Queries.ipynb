{
 "cells": [
  {
   "cell_type": "code",
   "execution_count": 2,
   "metadata": {},
   "outputs": [],
   "source": [
    "# conda install -c anaconda pymysql\n",
    "\n",
    "path = '..\\\\16_Introduction to Databases in Python\\\\data\\\\'\n",
    "\n",
    "from sqlalchemy import create_engine, Table, MetaData, select, desc, func"
   ]
  },
  {
   "cell_type": "markdown",
   "metadata": {},
   "source": [
    "# Calculating values in a query"
   ]
  },
  {
   "cell_type": "markdown",
   "metadata": {},
   "source": [
    "### Connecting to a MySQL database\n",
    "Before you jump into the calculation exercises, let's begin by connecting to our database. Recall that in the last chapter you connected to a PostgreSQL database. Now, you'll connect to a MySQL database, for which many prefer to use the pymysql database driver, which, like psycopg2 for PostgreSQL, you have to install prior to use.\n",
    "\n",
    "This connection string is going to start with 'mysql+pymysql://', indicating which dialect and driver you're using to establish the connection. The dialect block is followed by the 'username:password' combo. Next, you specify the host and port with the following '@host:port/'. Finally, you wrap up the connection string with the 'database_name'.\n",
    "\n",
    "Now you'll practice connecting to a MySQL database: it will be the same census database that you have already been working with. One of the great things about SQLAlchemy is that, after connecting, it abstracts over the type of database it has connected to and you can write the same SQLAlchemy code, regardless!\n",
    "\n",
    "- Import the create_engine function from the sqlalchemy library.\n",
    "- Create an engine to the census database by concatenating the following strings and passing them to create_engine():\n",
    " - `'mysql+pymysql://'`(the dialect and driver).\n",
    " - `'student:datacamp'` (the username and password).\n",
    " - `'@courses.csrrinzqubik.us-east-1.rds.amazonaws.com:3306/'` (the host and port).\n",
    " - `'census'` (the database name).\n",
    "- Use the `.table_names()` method on `engine` to print the table names."
   ]
  },
  {
   "cell_type": "code",
   "execution_count": 1,
   "metadata": {
    "scrolled": true
   },
   "outputs": [
    {
     "ename": "ModuleNotFoundError",
     "evalue": "No module named 'pymysql'",
     "output_type": "error",
     "traceback": [
      "\u001b[1;31m---------------------------------------------------------------------------\u001b[0m",
      "\u001b[1;31mModuleNotFoundError\u001b[0m                       Traceback (most recent call last)",
      "\u001b[1;32m<ipython-input-1-5dd1c90cd95d>\u001b[0m in \u001b[0;36m<module>\u001b[1;34m\u001b[0m\n\u001b[0;32m      3\u001b[0m \u001b[1;33m\u001b[0m\u001b[0m\n\u001b[0;32m      4\u001b[0m \u001b[1;31m# Create an engine to the census database\u001b[0m\u001b[1;33m\u001b[0m\u001b[1;33m\u001b[0m\u001b[1;33m\u001b[0m\u001b[0m\n\u001b[1;32m----> 5\u001b[1;33m \u001b[0mengine\u001b[0m \u001b[1;33m=\u001b[0m \u001b[0mcreate_engine\u001b[0m\u001b[1;33m(\u001b[0m\u001b[1;34m'mysql+pymysql://'\u001b[0m \u001b[1;33m+\u001b[0m \u001b[1;34m'student:datacamp'\u001b[0m \u001b[1;33m+\u001b[0m \u001b[1;34m'@courses.csrrinzqubik.us-east-1.rds.amazonaws.com:3306/'\u001b[0m \u001b[1;33m+\u001b[0m \u001b[1;34m'census'\u001b[0m\u001b[1;33m)\u001b[0m\u001b[1;33m\u001b[0m\u001b[1;33m\u001b[0m\u001b[0m\n\u001b[0m\u001b[0;32m      6\u001b[0m \u001b[1;33m\u001b[0m\u001b[0m\n\u001b[0;32m      7\u001b[0m \u001b[1;31m# Print the table names\u001b[0m\u001b[1;33m\u001b[0m\u001b[1;33m\u001b[0m\u001b[1;33m\u001b[0m\u001b[0m\n",
      "\u001b[1;32mD:\\99_Portables\\WPy64-3830\\python-3.8.3.amd64\\lib\\site-packages\\sqlalchemy\\engine\\__init__.py\u001b[0m in \u001b[0;36mcreate_engine\u001b[1;34m(*args, **kwargs)\u001b[0m\n\u001b[0;32m    486\u001b[0m     \u001b[0mstrategy\u001b[0m \u001b[1;33m=\u001b[0m \u001b[0mkwargs\u001b[0m\u001b[1;33m.\u001b[0m\u001b[0mpop\u001b[0m\u001b[1;33m(\u001b[0m\u001b[1;34m\"strategy\"\u001b[0m\u001b[1;33m,\u001b[0m \u001b[0mdefault_strategy\u001b[0m\u001b[1;33m)\u001b[0m\u001b[1;33m\u001b[0m\u001b[1;33m\u001b[0m\u001b[0m\n\u001b[0;32m    487\u001b[0m     \u001b[0mstrategy\u001b[0m \u001b[1;33m=\u001b[0m \u001b[0mstrategies\u001b[0m\u001b[1;33m.\u001b[0m\u001b[0mstrategies\u001b[0m\u001b[1;33m[\u001b[0m\u001b[0mstrategy\u001b[0m\u001b[1;33m]\u001b[0m\u001b[1;33m\u001b[0m\u001b[1;33m\u001b[0m\u001b[0m\n\u001b[1;32m--> 488\u001b[1;33m     \u001b[1;32mreturn\u001b[0m \u001b[0mstrategy\u001b[0m\u001b[1;33m.\u001b[0m\u001b[0mcreate\u001b[0m\u001b[1;33m(\u001b[0m\u001b[1;33m*\u001b[0m\u001b[0margs\u001b[0m\u001b[1;33m,\u001b[0m \u001b[1;33m**\u001b[0m\u001b[0mkwargs\u001b[0m\u001b[1;33m)\u001b[0m\u001b[1;33m\u001b[0m\u001b[1;33m\u001b[0m\u001b[0m\n\u001b[0m\u001b[0;32m    489\u001b[0m \u001b[1;33m\u001b[0m\u001b[0m\n\u001b[0;32m    490\u001b[0m \u001b[1;33m\u001b[0m\u001b[0m\n",
      "\u001b[1;32mD:\\99_Portables\\WPy64-3830\\python-3.8.3.amd64\\lib\\site-packages\\sqlalchemy\\engine\\strategies.py\u001b[0m in \u001b[0;36mcreate\u001b[1;34m(self, name_or_url, **kwargs)\u001b[0m\n\u001b[0;32m     85\u001b[0m                 \u001b[1;32mif\u001b[0m \u001b[0mk\u001b[0m \u001b[1;32min\u001b[0m \u001b[0mkwargs\u001b[0m\u001b[1;33m:\u001b[0m\u001b[1;33m\u001b[0m\u001b[1;33m\u001b[0m\u001b[0m\n\u001b[0;32m     86\u001b[0m                     \u001b[0mdbapi_args\u001b[0m\u001b[1;33m[\u001b[0m\u001b[0mk\u001b[0m\u001b[1;33m]\u001b[0m \u001b[1;33m=\u001b[0m \u001b[0mpop_kwarg\u001b[0m\u001b[1;33m(\u001b[0m\u001b[0mk\u001b[0m\u001b[1;33m)\u001b[0m\u001b[1;33m\u001b[0m\u001b[1;33m\u001b[0m\u001b[0m\n\u001b[1;32m---> 87\u001b[1;33m             \u001b[0mdbapi\u001b[0m \u001b[1;33m=\u001b[0m \u001b[0mdialect_cls\u001b[0m\u001b[1;33m.\u001b[0m\u001b[0mdbapi\u001b[0m\u001b[1;33m(\u001b[0m\u001b[1;33m**\u001b[0m\u001b[0mdbapi_args\u001b[0m\u001b[1;33m)\u001b[0m\u001b[1;33m\u001b[0m\u001b[1;33m\u001b[0m\u001b[0m\n\u001b[0m\u001b[0;32m     88\u001b[0m \u001b[1;33m\u001b[0m\u001b[0m\n\u001b[0;32m     89\u001b[0m         \u001b[0mdialect_args\u001b[0m\u001b[1;33m[\u001b[0m\u001b[1;34m\"dbapi\"\u001b[0m\u001b[1;33m]\u001b[0m \u001b[1;33m=\u001b[0m \u001b[0mdbapi\u001b[0m\u001b[1;33m\u001b[0m\u001b[1;33m\u001b[0m\u001b[0m\n",
      "\u001b[1;32mD:\\99_Portables\\WPy64-3830\\python-3.8.3.amd64\\lib\\site-packages\\sqlalchemy\\dialects\\mysql\\pymysql.py\u001b[0m in \u001b[0;36mdbapi\u001b[1;34m(cls)\u001b[0m\n\u001b[0;32m     60\u001b[0m     \u001b[1;33m@\u001b[0m\u001b[0mclassmethod\u001b[0m\u001b[1;33m\u001b[0m\u001b[1;33m\u001b[0m\u001b[0m\n\u001b[0;32m     61\u001b[0m     \u001b[1;32mdef\u001b[0m \u001b[0mdbapi\u001b[0m\u001b[1;33m(\u001b[0m\u001b[0mcls\u001b[0m\u001b[1;33m)\u001b[0m\u001b[1;33m:\u001b[0m\u001b[1;33m\u001b[0m\u001b[1;33m\u001b[0m\u001b[0m\n\u001b[1;32m---> 62\u001b[1;33m         \u001b[1;32mreturn\u001b[0m \u001b[0m__import__\u001b[0m\u001b[1;33m(\u001b[0m\u001b[1;34m\"pymysql\"\u001b[0m\u001b[1;33m)\u001b[0m\u001b[1;33m\u001b[0m\u001b[1;33m\u001b[0m\u001b[0m\n\u001b[0m\u001b[0;32m     63\u001b[0m \u001b[1;33m\u001b[0m\u001b[0m\n\u001b[0;32m     64\u001b[0m     \u001b[1;32mdef\u001b[0m \u001b[0mis_disconnect\u001b[0m\u001b[1;33m(\u001b[0m\u001b[0mself\u001b[0m\u001b[1;33m,\u001b[0m \u001b[0me\u001b[0m\u001b[1;33m,\u001b[0m \u001b[0mconnection\u001b[0m\u001b[1;33m,\u001b[0m \u001b[0mcursor\u001b[0m\u001b[1;33m)\u001b[0m\u001b[1;33m:\u001b[0m\u001b[1;33m\u001b[0m\u001b[1;33m\u001b[0m\u001b[0m\n",
      "\u001b[1;31mModuleNotFoundError\u001b[0m: No module named 'pymysql'"
     ]
    }
   ],
   "source": [
    "# Import create_engine function\n",
    "from sqlalchemy import create_engine\n",
    "\n",
    "# Create an engine to the census database\n",
    "engine = create_engine('mysql+pymysql://' + 'student:datacamp' + '@courses.csrrinzqubik.us-east-1.rds.amazonaws.com:3306/' + 'census')\n",
    "\n",
    "# Print the table names\n",
    "print(engine.table_names())"
   ]
  },
  {
   "cell_type": "markdown",
   "metadata": {},
   "source": [
    "Well done! This database, like the one you explored in Chapter 1, has two tables: 'census', and 'state_fact'."
   ]
  },
  {
   "cell_type": "markdown",
   "metadata": {},
   "source": [
    "Calculating a difference between two columns\n",
    "Often, you'll need to perform math operations as part of a query, such as if you wanted to calculate the change in population from 2000 to 2008. For math operations on numbers, the operators in SQLAlchemy work the same way as they do in Python.\n",
    "\n",
    "You can use these operators to perform addition (+), subtraction (-), multiplication (*), division (/), and modulus (%) operations. Note: They behave differently when used with non-numeric column types.\n",
    "\n",
    "Let's now find the top 5 states by population growth between 2000 and 2008.\n",
    "\n",
    "- Define a select statement called stmt to return:\n",
    " - i) The state column of the census table (census.columns.state).\n",
    " - ii) The difference in population count between 2008 (census.columns.pop2008) and 2000 (census.columns.pop2000) labeled as 'pop_change'.\n",
    "- Group the statement by census.columns.state.\n",
    "- Order the statement by population change ('pop_change') in descending order. Do so by passing it desc('pop_change').\n",
    "- Use the .limit() method on the previous statement to return only 5 records.\n",
    "- Execute the statement and fetchall() the records.\n",
    "- The print statement has already been written for you. Hit 'Submit Answer' to view the results!"
   ]
  },
  {
   "cell_type": "code",
   "execution_count": 3,
   "metadata": {
    "scrolled": true
   },
   "outputs": [
    {
     "name": "stdout",
     "output_type": "stream",
     "text": [
      "Texas:40137\n",
      "California:35406\n",
      "Florida:21954\n",
      "Arizona:14377\n",
      "Georgia:13357\n"
     ]
    }
   ],
   "source": [
    "# Create an engine that connects to the census.sqlite file: engine\n",
    "engine = create_engine('sqlite:///'+ path + 'census.sqlite')\n",
    "metadata = MetaData()\n",
    "census = Table('census', metadata, autoload=True, autoload_with=engine)\n",
    "state_fact = Table('state_fact', metadata, autoload=True, autoload_with=engine)\n",
    "connection = engine.connect()\n",
    "\n",
    "\n",
    "# Build query to return state names by population difference from 2008 to 2000: stmt\n",
    "stmt = select([census.columns.state, (census.columns.pop2008-census.columns.pop2000).label('pop_change')])\n",
    "\n",
    "# Append group by for the state: stmt_grouped\n",
    "stmt_grouped = stmt.group_by(census.columns.state)\n",
    "\n",
    "# Append order by for pop_change descendingly: stmt_ordered\n",
    "stmt_ordered = stmt_grouped.order_by(desc('pop_change'))\n",
    "\n",
    "# Return only 5 results: stmt_top5\n",
    "stmt_top5 = stmt_ordered.limit(5)\n",
    "\n",
    "# Use connection to execute stmt_top5 and fetch all results\n",
    "results = connection.execute(stmt_top5).fetchall()\n",
    "\n",
    "# Print the state and population change for each record\n",
    "for result in results:\n",
    "    print('{}:{}'.format(result.state, result.pop_change))"
   ]
  },
  {
   "cell_type": "markdown",
   "metadata": {},
   "source": [
    "Excellent work! It looks like California grew the most between 2000 and 2008!"
   ]
  },
  {
   "cell_type": "markdown",
   "metadata": {},
   "source": [
    "Determining the overall percentage of women\n",
    "It's possible to combine functions and operators in a single select statement as well. These combinations can be exceptionally handy when we want to calculate percentages or averages, and we can also use the case() expression to operate on data that meets specific criteria while not affecting the query as a whole. The case() expression accepts a list of conditions to match and the column to return if the condition matches, followed by an else_ if none of the conditions match. We can wrap this entire expression in any function or math operation we like.\n",
    "\n",
    "Often when performing integer division, we want to get a float back. While some databases will do this automatically, you can use the cast() function to convert an expression to a particular type.\n",
    "\n",
    "- Import case, cast, and Float from sqlalchemy.\n",
    "- Build an expression female_pop2000to calculate female population in 2000. To achieve this:\n",
    " - Use case() inside func.sum().\n",
    " - The first argument of case() is a list containing a tuple of\n",
    "   - i) A boolean checking that census.columns.sex is equal to 'F'.\n",
    "   - ii) The column census.columns.pop2000.\n",
    " - The second argument is the else_ condition, which should be set to 0.\n",
    "- Calculate the total population in 2000 and use cast() to convert it to Float.\n",
    "- Build a query to calculate the percentage of women in 2000. To do this, divide female_pop2000 by total_pop2000 and multiply by 100.\n",
    "- Execute the query and print percent_female."
   ]
  },
  {
   "cell_type": "code",
   "execution_count": 4,
   "metadata": {
    "scrolled": true
   },
   "outputs": [
    {
     "name": "stdout",
     "output_type": "stream",
     "text": [
      "51.09467432293413\n"
     ]
    }
   ],
   "source": [
    "# import case, cast and Float from sqlalchemy\n",
    "from sqlalchemy import case, cast, Float\n",
    "\n",
    "# Build an expression to calculate female population in 2000\n",
    "female_pop2000 = func.sum(\n",
    "    case([\n",
    "        (census.columns.sex == 'F', census.columns.pop2000)\n",
    "    ], else_=0))\n",
    "\n",
    "# Cast an expression to calculate total population in 2000 to Float\n",
    "total_pop2000 = cast(func.sum(census.columns.pop2000), Float)\n",
    "\n",
    "# Build a query to calculate the percentage of women in 2000: stmt\n",
    "stmt = select([female_pop2000 / total_pop2000* 100])\n",
    "\n",
    "# Execute the query and store the scalar result: percent_female\n",
    "percent_female = connection.execute(stmt).scalar()\n",
    "\n",
    "# Print the percentage\n",
    "print(percent_female)"
   ]
  },
  {
   "cell_type": "markdown",
   "metadata": {},
   "source": [
    "Well done! It looks like there were slightly more women than men in the US population in 2000!"
   ]
  },
  {
   "cell_type": "markdown",
   "metadata": {},
   "source": [
    "# SQL relationships"
   ]
  },
  {
   "cell_type": "markdown",
   "metadata": {},
   "source": []
  },
  {
   "cell_type": "code",
   "execution_count": 5,
   "metadata": {
    "scrolled": true
   },
   "outputs": [
    {
     "name": "stdout",
     "output_type": "stream",
     "text": [
      "pop2000 89600\n",
      "abbreviation IL\n"
     ]
    }
   ],
   "source": [
    "# Build a statement to join census and state_fact tables: stmt\n",
    "stmt = select([census.columns.pop2000, state_fact.columns.abbreviation])\n",
    "\n",
    "# Execute the statement and get the first result: result\n",
    "result = connection.execute(stmt).first()\n",
    "\n",
    "# Loop over the keys in the result object and print the key and value\n",
    "for key in result.keys():\n",
    "    print(key, getattr(result, key))"
   ]
  },
  {
   "cell_type": "markdown",
   "metadata": {},
   "source": [
    "Great work - it's always useful to take advantage of established relationships, like in this case."
   ]
  },
  {
   "cell_type": "markdown",
   "metadata": {},
   "source": [
    "Joins\n",
    "If you aren't selecting columns from both tables or the two tables don't have a defined relationship, you can still use the .join() method on a table to join it with another table and get extra data related to our query. The join() takes the table object you want to join in as the first argument and a condition that indicates how the tables are related to the second argument. Finally, you use the .select_from() method on the select statement to wrap the join clause. For example, in the video, Jason executed the following code to join the census table to the state_fact table such that the state column of the census table corresponded to the name column of the state_fact table.\n",
    "\n",
    "```python\n",
    "stmt = stmt.select_from(\n",
    "    census.join(\n",
    "        state_fact, census.columns.state == \n",
    "        state_fact.columns.name)\n",
    "```\n",
    "\n",
    "- Build a statement to select ALL the columns from the census and state_fact tables. To select ALL the columns from two tables employees and sales, for example, you would use stmt = select([employees, sales]).\n",
    "- Append a select_from to stmt to join the census table to the state_fact table by the state column in census and the name column in the state_fact table.\n",
    "- Execute the statement to get the first result and save it as result. This code is already written.\n",
    "- Hit 'Submit Answer' to loop over the keys of the result object, and print the key and value for each!"
   ]
  },
  {
   "cell_type": "code",
   "execution_count": 6,
   "metadata": {},
   "outputs": [
    {
     "name": "stdout",
     "output_type": "stream",
     "text": [
      "state Illinois\n",
      "sex M\n",
      "age 0\n",
      "pop2000 89600\n",
      "pop2008 95012\n",
      "id 13\n",
      "name Illinois\n",
      "abbreviation IL\n",
      "country USA\n",
      "type state\n",
      "sort 10\n",
      "status current\n",
      "occupied occupied\n",
      "notes \n",
      "fips_state 17\n",
      "assoc_press Ill.\n",
      "standard_federal_region V\n",
      "census_region 2\n",
      "census_region_name Midwest\n",
      "census_division 3\n",
      "census_division_name East North Central\n",
      "circuit_court 7\n"
     ]
    }
   ],
   "source": [
    "# Build a statement to select the census and state_fact tables: stmt\n",
    "stmt = select([census, state_fact])\n",
    "\n",
    "# Add a select_from clause that wraps a join for the census and state_fact\n",
    "# tables where the census state column and state_fact name column match\n",
    "stmt_join = stmt.select_from(\n",
    "    census.join(state_fact, census.columns.state == state_fact.columns.name))\n",
    "\n",
    "# Execute the statement and get the first result: result\n",
    "result = connection.execute(stmt_join).first()\n",
    "\n",
    "# Loop over the keys in the result object and print the key and value\n",
    "for key in result.keys():\n",
    "    print(key, getattr(result, key))"
   ]
  },
  {
   "cell_type": "markdown",
   "metadata": {},
   "source": [
    "Fantastic work! You'll get more practice with joins in the next exercise!"
   ]
  },
  {
   "cell_type": "markdown",
   "metadata": {},
   "source": [
    "### More practice with joins\n",
    "You can use the same select statement you built in the last exercise, however, let's add a twist and only return a few columns and use the other table in a group_by() clause.\n",
    "\n",
    "- Build a statement to select:\n",
    " - The state column from the census table.\n",
    " - The sum of the pop2008 column from the census table.\n",
    " - The census_division_name column from the state_fact table.\n",
    "- Append a .select_from() to stmt in order to join the census and state_fact tables by the state and name columns.\n",
    "- Group the statement by the name column of the state_fact table.\n",
    "- Execute the statement stmt_grouped to get all the records and save it as results.\n",
    "- Hit 'Submit Answer' to loop over the results object and print each record."
   ]
  },
  {
   "cell_type": "code",
   "execution_count": 7,
   "metadata": {
    "scrolled": true
   },
   "outputs": [
    {
     "name": "stdout",
     "output_type": "stream",
     "text": [
      "('Alabama', 4649367, 'East South Central')\n",
      "('Alaska', 664546, 'Pacific')\n",
      "('Arizona', 6480767, 'Mountain')\n",
      "('Arkansas', 2848432, 'West South Central')\n",
      "('California', 36609002, 'Pacific')\n",
      "('Colorado', 4912947, 'Mountain')\n",
      "('Connecticut', 3493783, 'New England')\n",
      "('Delaware', 869221, 'South Atlantic')\n",
      "('Florida', 18257662, 'South Atlantic')\n",
      "('Georgia', 9622508, 'South Atlantic')\n",
      "('Hawaii', 1250676, 'Pacific')\n",
      "('Idaho', 1518914, 'Mountain')\n",
      "('Illinois', 12867077, 'East North Central')\n",
      "('Indiana', 6373299, 'East North Central')\n",
      "('Iowa', 3000490, 'West North Central')\n",
      "('Kansas', 2782245, 'West North Central')\n",
      "('Kentucky', 4254964, 'East South Central')\n",
      "('Louisiana', 4395797, 'West South Central')\n",
      "('Maine', 1312972, 'New England')\n",
      "('Maryland', 5604174, 'South Atlantic')\n",
      "('Massachusetts', 6492024, 'New England')\n",
      "('Michigan', 9998854, 'East North Central')\n",
      "('Minnesota', 5215815, 'West North Central')\n",
      "('Mississippi', 2922355, 'East South Central')\n",
      "('Missouri', 5891974, 'West North Central')\n",
      "('Montana', 963802, 'Mountain')\n",
      "('Nebraska', 1776757, 'West North Central')\n",
      "('Nevada', 2579387, 'Mountain')\n",
      "('New Hampshire', 1314533, 'New England')\n",
      "('New Jersey', 8670204, 'Mid-Atlantic')\n",
      "('New Mexico', 1974993, 'Mountain')\n",
      "('New York', 19465159, 'Mid-Atlantic')\n",
      "('North Carolina', 9121606, 'South Atlantic')\n",
      "('North Dakota', 634282, 'West North Central')\n",
      "('Ohio', 11476782, 'East North Central')\n",
      "('Oklahoma', 3620620, 'West South Central')\n",
      "('Oregon', 3786824, 'Pacific')\n",
      "('Pennsylvania', 12440129, 'Mid-Atlantic')\n",
      "('Rhode Island', 1046535, 'New England')\n",
      "('South Carolina', 4438870, 'South Atlantic')\n",
      "('South Dakota', 800997, 'West North Central')\n",
      "('Tennessee', 6202407, 'East South Central')\n",
      "('Texas', 24214127, 'West South Central')\n",
      "('Utah', 2730919, 'Mountain')\n",
      "('Vermont', 620602, 'New England')\n",
      "('Virginia', 7648902, 'South Atlantic')\n",
      "('Washington', 6502019, 'Pacific')\n",
      "('West Virginia', 1812879, 'South Atlantic')\n",
      "('Wisconsin', 5625013, 'East North Central')\n",
      "('Wyoming', 529490, 'Mountain')\n"
     ]
    }
   ],
   "source": [
    "# Build a statement to select the state, sum of 2008 population and census\n",
    "# division name: stmt\n",
    "stmt = select([\n",
    "    census.columns.state,\n",
    "    func.sum(census.columns.pop2008),\n",
    "    state_fact.columns.census_division_name\n",
    "])\n",
    "\n",
    "# Append select_from to join the census and state_fact tables by the census state and state_fact name columns\n",
    "stmt_joined = stmt.select_from(\n",
    "    census.join(state_fact, census.columns.state == state_fact.columns.name)\n",
    ")\n",
    "\n",
    "# Append a group by for the state_fact name column\n",
    "stmt_grouped = stmt_joined.group_by(state_fact.columns.name)\n",
    "\n",
    "# Execute the statement and get the results: results\n",
    "results = connection.execute(stmt_grouped).fetchall()\n",
    "\n",
    "# Loop over the results object and print each record.\n",
    "for record in results:\n",
    "    print(record)\n"
   ]
  },
  {
   "cell_type": "markdown",
   "metadata": {},
   "source": [
    "Brilliant! The ability to join tables like this is what makes relational databases so powerful."
   ]
  },
  {
   "cell_type": "markdown",
   "metadata": {},
   "source": [
    "# Working with hierarchical tables"
   ]
  },
  {
   "cell_type": "markdown",
   "metadata": {},
   "source": [
    "### Using alias to handle same table joined queries\n",
    "Often, you'll have tables that contain hierarchical data, such as employees and managers who are also employees. For this reason, you may wish to join a table to itself on different columns. The .alias() method, which creates a copy of a table, helps accomplish this task. Because it's the same table, you only need a where clause to specify the join condition.\n",
    "\n",
    "Here, you'll use the .alias() method to build a query to join the employees table against itself to determine to whom everyone reports.\n",
    "\n",
    "- Save an alias of the employees table as managers. To do so, apply the method .alias() to employees.\n",
    "- Build a query to select the employee's name and their manager's name. The manager's name has already been selected for you. Use label to label the name column of employees as 'employee'.\n",
    "- Append a where clause to stmt to match where the id column of the managers table corresponds to the mgr column of the employees table.\n",
    "- Order the statement by the name column of the managers table.\n",
    "- Execute the statement and store all the results. This code is already written. Hit 'Submit Answer' to print the names of the managers and all their employees."
   ]
  },
  {
   "cell_type": "code",
   "execution_count": null,
   "metadata": {
    "scrolled": true
   },
   "outputs": [],
   "source": [
    "# Create an engine that connects to the census.sqlite file: engine\n",
    "engine_emp = create_engine('sqlite:///'+ path + 'employees.sqlite')\n",
    "metadata = MetaData()\n",
    "employees = Table('employees', metadata, autoload=True, autoload_with=engine_emp)\n",
    "connection_emp = engine_emp.connect()\n",
    "\n",
    "# Make an alias of the employees table: managers\n",
    "managers = employees.alias()\n",
    "\n",
    "# Build a query to select names of managers and their employees: stmt\n",
    "stmt = select(\n",
    "    [managers.columns.name.label('manager'),\n",
    "     employees.columns.name.label('employee')]\n",
    ")\n",
    "\n",
    "# Match managers id with employees mgr: stmt_matched\n",
    "stmt_matched = stmt.where(managers.columns.id == employees.columns.mgr)\n",
    "\n",
    "# Order the statement by the managers name: stmt_ordered\n",
    "stmt_ordered = stmt_matched.order_by(managers.columns.name)\n",
    "\n",
    "# Execute statement: results\n",
    "results = connection_emp.execute(stmt_ordered).fetchall()\n",
    "\n",
    "# Print records\n",
    "for record in results:\n",
    "    print(record)"
   ]
  },
  {
   "cell_type": "markdown",
   "metadata": {},
   "source": [
    "Well done! It's important to be able to work with hierarchical tables."
   ]
  },
  {
   "cell_type": "markdown",
   "metadata": {},
   "source": [
    "### Leveraging functions and group_bys with hierarchical data\n",
    "It's also common to want to roll up data which is in a hierarchical table. Rolling up data requires making sure you're careful which alias you use to perform the group_bys and which table you use for the function.\n",
    "\n",
    "Here, your job is to get a count of employees for each manager.\n",
    "\n",
    "- Save an alias of the employees table as managers.\n",
    "- Build a query to select the name column of the managers table and the count of the number of their employees. The function func.count() has been imported and will be useful! Use it to count the id column of the employees table.\n",
    "- Using a .where() clause, filter the records where the id column of the managers table and mgr column of the employees table are equal.\n",
    "- Group the query by the name column of the managers table.\n",
    "- Execute the statement and store all the results. Print the names of the managers and their employees. This code has already been written so hit 'Submit Answer' and check out the results!"
   ]
  },
  {
   "cell_type": "code",
   "execution_count": null,
   "metadata": {
    "scrolled": true
   },
   "outputs": [],
   "source": [
    "# Build a query to select names of managers and counts of their employees: stmt\n",
    "stmt = select([managers.columns.name, func.count(employees.columns.id)])\n",
    "\n",
    "# Append a where clause that ensures the manager id and employee mgr are equal\n",
    "stmt_matched = stmt.where(managers.columns.id == employees.columns.mgr)\n",
    "\n",
    "# Group by Managers Name\n",
    "stmt_grouped = stmt_matched.group_by(managers.columns.name)\n",
    "\n",
    "# Execute statement: results\n",
    "results = connection_emp.execute(stmt_grouped).fetchall()\n",
    "\n",
    "# print manager\n",
    "for record in results:\n",
    "    print(record)"
   ]
  },
  {
   "cell_type": "markdown",
   "metadata": {},
   "source": [
    "Great work- you're becoming a SQLAlchemy master! In the next video, you'll learn how to deal with large ResultSets."
   ]
  },
  {
   "cell_type": "markdown",
   "metadata": {},
   "source": [
    "# Dealing with large ResultSets"
   ]
  },
  {
   "cell_type": "markdown",
   "metadata": {},
   "source": [
    "### Working on blocks of records\n",
    "Fantastic work so far! As Jason discussed in the video, sometimes you may have the need to work on a large ResultProxy, and you may not have the memory to load all the results at once. To work around that issue, you can get blocks of rows from the ResultProxy by using the .fetchmany() method inside a loop. With .fetchmany(), give it an argument of the number of records you want. When you reach an empty list, there are no more rows left to fetch, and you have processed all the results of the query. Then you need to use the .close() method to close out the connection to the database.\n",
    "\n",
    "You'll now have the chance to practice this on a large ResultProxy called results_proxy that has been pre-loaded for you to work with.\n",
    "\n",
    "- Use a while loop that checks if there are more_results.\n",
    "- Inside the loop, apply the method .fetchmany() to results_proxy to get 50 records at a time and store those records as partial_results.\n",
    "- After fetching the records, if partial_results is an empty list (that is, if it is equal to []), set more_results to False.\n",
    "- Loop over the partial_results and, if row.state is a key in the state_count dictionary, increment state_count[row.state] by 1; otherwise set state_count[row.state] to 1.\n",
    "- After the while loop, close the ResultProxy results_proxy using .close().\n",
    "- Hit 'Submit Answer' to print state_count."
   ]
  },
  {
   "cell_type": "code",
   "execution_count": null,
   "metadata": {},
   "outputs": [],
   "source": [
    "# more_results = True\n",
    "\n",
    "# # Start a while loop checking for more results\n",
    "# while more_results:\n",
    "#     # Fetch the first 50 results from the ResultProxy: partial_results\n",
    "#     partial_results = results_proxy.fetchmany(50)\n",
    "\n",
    "#     # if empty list, set more_results to False\n",
    "#     if partial_results == []:\n",
    "#         more_results = False\n",
    "\n",
    "#     # Loop over the fetched records and increment the count for the state\n",
    "#     for row in partial_results:\n",
    "#         if row.state in state_count:\n",
    "#             state_count[row.state] += 1\n",
    "#         else:\n",
    "#             state_count[row.state] = 1\n",
    "\n",
    "# # Close the ResultProxy, and thus the connection\n",
    "# results_proxy.close()\n",
    "\n",
    "# # Print the count by state\n",
    "# print(state_count)"
   ]
  },
  {
   "cell_type": "markdown",
   "metadata": {},
   "source": [
    "Wonderful work! As a data scientist, you'll inevitably come across huge databases, and being able to work on them in blocks is a vital skill."
   ]
  }
 ],
 "metadata": {
  "kernelspec": {
   "display_name": "Python 3",
   "language": "python",
   "name": "python3"
  },
  "language_info": {
   "codemirror_mode": {
    "name": "ipython",
    "version": 3
   },
   "file_extension": ".py",
   "mimetype": "text/x-python",
   "name": "python",
   "nbconvert_exporter": "python",
   "pygments_lexer": "ipython3",
   "version": "3.8.3"
  }
 },
 "nbformat": 4,
 "nbformat_minor": 4
}
