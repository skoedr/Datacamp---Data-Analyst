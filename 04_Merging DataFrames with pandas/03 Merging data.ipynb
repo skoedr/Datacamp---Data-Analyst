{
 "cells": [
  {
   "cell_type": "code",
   "execution_count": 1,
   "metadata": {},
   "outputs": [],
   "source": [
    "import pandas as pd\n",
    "\n",
    "path = \"..\\\\12_Merging DataFrames with pandas\\\\data\\\\\"\n",
    "\n",
    "feb_sales_hardware_path = path + 'Sales\\\\' + 'feb-sales-Hardware.csv'\n",
    "feb_sales_service_path = path + 'Sales\\\\' + 'feb-sales-Service.csv'\n",
    "feb_sales_software_path = path + 'Sales\\\\' + 'feb-sales-Sofware.csv'\n",
    "sales_feb_2015 = path + 'Sales\\\\' + 'sales-feb-2015.csv'\n",
    "sales_jan_2015 = path + 'Sales\\\\' + 'sales-jan-2015.csv'\n",
    "sales_mar_2015 = path + 'Sales\\\\' + 'sales-mar-2015.csv'\n",
    "names1881_path = path + '\\\\Baby names\\\\' + 'names1881.csv'\n",
    "names1981_path = path + '\\\\Baby names\\\\' + 'names1981.csv'\n",
    "medals_path = path + 'Summer Olympic medals\\\\'\n",
    "bronze_top5_path = path + 'Summer Olympic medals\\\\' + 'bronze_top5.csv'\n",
    "silver_top5_path = path + 'Summer Olympic medals\\\\' + 'silver_top5.csv'\n",
    "gold_top5_path = path + 'Summer Olympic medals\\\\' + 'gold_top5.csv'\n",
    "gdp_usa = path + 'GDP\\\\' + 'gdp_usa.csv'\n",
    "gdp_china = path + 'GDP\\\\' + 'gdp_china.csv'\n",
    "auto_path = path + 'automobiles.csv'\n",
    "oil_prices_path = path + 'oil_price.csv'"
   ]
  },
  {
   "cell_type": "markdown",
   "metadata": {},
   "source": [
    "# Merging DataFrames"
   ]
  },
  {
   "cell_type": "markdown",
   "metadata": {},
   "source": [
    "### Merging company DataFrames"
   ]
  },
  {
   "cell_type": "markdown",
   "metadata": {},
   "source": [
    "Suppose your company has operations in several different cities under several different managers. The DataFrames revenue and managers contain partial information related to the company. That is, the rows of the city columns don't quite match in revenue and managers (the Mendocino branch has no revenue yet since it just opened and the manager of Springfield branch recently left the company).\n",
    "\n",
    "The DataFrames have been printed in the IPython Shell. If you were to run the command combined = pd.merge(revenue, managers, on='city'), how many rows would combined have?\n",
    "\n",
    "Possible Answers\n",
    "- 0 rows.\n",
    " - 2 rows.\n",
    "- 3 rows.\n",
    "- 4 rows."
   ]
  },
  {
   "cell_type": "code",
   "execution_count": 2,
   "metadata": {},
   "outputs": [],
   "source": [
    "#           city  revenue\n",
    "# 0       Austin      100\n",
    "# 1       Denver       83\n",
    "# 2  Springfield        4\n",
    "\n",
    "#         city   manager\n",
    "# 0     Austin  Charlers\n",
    "# 1     Denver      Joel\n",
    "# 2  Mendocino     Brett\n",
    "\n",
    "# In [1]: combined = pd.merge(revenue, managers, on='city')\n",
    "\n",
    "# In [2]: combined.shape\n",
    "# Out[2]: (2, 3)"
   ]
  },
  {
   "cell_type": "markdown",
   "metadata": {},
   "source": [
    "### Merging on a specific column"
   ]
  },
  {
   "cell_type": "markdown",
   "metadata": {},
   "source": [
    "This exercise follows on the last one with the DataFrames revenue and managers for your company. You expect your company to grow and, eventually, to operate in cities with the same name on different states. As such, you decide that every branch should have a numerical branch identifier. Thus, you add a branch_id column to both DataFrames. Moreover, new cities have been added to both the revenue and managers DataFrames as well. pandas has been imported as pd and both DataFrames are available in your namespace.\n",
    "\n",
    "At present, there should be a 1-to-1 relationship between the city and branch_id fields. In that case, the result of a merge on the city columns ought to give you the same output as a merge on the branch_id columns. Do they? Can you spot an ambiguity in one of the DataFrames?\n",
    "\n",
    "- Using pd.merge(), merge the DataFrames revenue and managers on the 'city' column of each. Store the result as merge_by_city.\n",
    "- Print the DataFrame merge_by_city. This has been done for you.\n",
    "- Merge the DataFrames revenue and managers on the 'branch_id' column of each. Store the result as merge_by_id.\n",
    "- Print the DataFrame merge_by_id. This has been done for you, so hit 'Submit Answer' to see the result!"
   ]
  },
  {
   "cell_type": "code",
   "execution_count": 3,
   "metadata": {
    "scrolled": true
   },
   "outputs": [
    {
     "name": "stdout",
     "output_type": "stream",
     "text": [
      "          city  branch_id_x  revenue  branch_id_y  manager\n",
      "0       Austin           10      100           10  Charles\n",
      "1       Denver           20       83           20     Joel\n",
      "2  Springfield           30        4           31    Sally\n",
      "3    Mendocino           47      200           47    Brett \n",
      "\n",
      "      city_x  branch_id  revenue     city_y  manager\n",
      "0     Austin         10      100     Austin  Charles\n",
      "1     Denver         20       83     Denver     Joel\n",
      "2  Mendocino         47      200  Mendocino    Brett\n"
     ]
    }
   ],
   "source": [
    "# preparations\n",
    "revenue = pd.DataFrame({'city':['Austin', 'Denver', 'Springfield', 'Mendocino'],\n",
    "                      'branch_id':[10, 20, 30, 47], 'revenue':[100, 83, 4, 200]})\n",
    "\n",
    "managers = pd.DataFrame({'city':['Austin', 'Denver', 'Mendocino', 'Springfield'],\n",
    "                      'branch_id':[10, 20, 47, 31], 'manager':['Charles', 'Joel', 'Brett', 'Sally']})\n",
    "\n",
    "# Merge revenue with managers on 'city': merge_by_city\n",
    "merge_by_city = pd.merge(revenue, managers, on='city')\n",
    "\n",
    "# Print merge_by_city\n",
    "print(merge_by_city, '\\n')\n",
    "\n",
    "# Merge revenue with managers on 'branch_id': merge_by_id\n",
    "merge_by_id = pd.merge(revenue, managers, on='branch_id')\n",
    "\n",
    "# Print merge_by_id\n",
    "print(merge_by_id)"
   ]
  },
  {
   "cell_type": "markdown",
   "metadata": {},
   "source": [
    "Well done! Notice that when you merge on 'city', the resulting DataFrame has a peculiar result: In row 2, the city Springfield has two different branch IDs. This is because there are actually two different cities named Springfield - one in the State of Illinois, and the other in Missouri. The revenue DataFrame has the one from Illinois, and the managers DataFrame has the one from Missouri. Consequently, when you merge on 'branch_id', both of these get dropped from the merged DataFrame."
   ]
  },
  {
   "cell_type": "markdown",
   "metadata": {},
   "source": [
    "### Merging on columns with non-matching labels"
   ]
  },
  {
   "cell_type": "markdown",
   "metadata": {},
   "source": [
    "You continue working with the revenue & managers DataFrames from before. This time, someone has changed the field name 'city' to 'branch' in the managers table. Now, when you attempt to merge DataFrames, an exception is thrown:\n",
    "\n",
    ">>> pd.merge(revenue, managers, on='city')\n",
    "Traceback (most recent call last):\n",
    "    ... <text deleted> ...\n",
    "    pd.merge(revenue, managers, on='city')\n",
    "    ... <text deleted> ...\n",
    "KeyError: 'city'\n",
    "Given this, it will take a bit more work for you to join or merge on the city/branch name. You have to specify the left_on and right_on parameters in the call to pd.merge().\n",
    "\n",
    "As before, pandas has been pre-imported as pd and the revenue and managers DataFrames are in your namespace. They have been printed in the IPython Shell so you can examine the columns prior to merging.\n",
    "\n",
    "Are you able to merge better than in the last exercise? How should the rows with Springfield be handled?\n",
    "    \n",
    "- Merge the DataFrames revenue and managers into a single DataFrame called combined using the 'city' and 'branch' columns from the appropriate DataFrames.\n",
    " - In your call to pd.merge(), you will have to specify the parameters left_on and right_on appropriately.\n",
    "- Print the new DataFrame combined. "
   ]
  },
  {
   "cell_type": "code",
   "execution_count": 4,
   "metadata": {
    "scrolled": true
   },
   "outputs": [
    {
     "name": "stdout",
     "output_type": "stream",
     "text": [
      "          city  branch_id_x  revenue       branch  branch_id_y  manager\n",
      "0       Austin           10      100       Austin           10  Charles\n",
      "1       Denver           20       83       Denver           20     Joel\n",
      "2  Springfield           30        4  Springfield           31    Sally\n",
      "3    Mendocino           47      200    Mendocino           47    Brett\n"
     ]
    }
   ],
   "source": [
    "# preparations\n",
    "revenue = pd.DataFrame({'city':['Austin', 'Denver', 'Springfield', 'Mendocino'],\n",
    "                      'branch_id':[10, 20, 30, 47], 'revenue':[100, 83, 4, 200]})\n",
    "\n",
    "managers = pd.DataFrame({'branch':['Austin', 'Denver', 'Mendocino', 'Springfield'],\n",
    "                      'branch_id':[10, 20, 47, 31], 'manager':['Charles', 'Joel', 'Brett', 'Sally']})\n",
    "\n",
    "# Merge revenue & managers on 'city' & 'branch': combined\n",
    "combined = pd.merge(revenue, managers, left_on='city', right_on='branch')\n",
    "\n",
    "# Print combined\n",
    "print(combined)"
   ]
  },
  {
   "cell_type": "markdown",
   "metadata": {},
   "source": [
    "### Merging on multiple columns"
   ]
  },
  {
   "cell_type": "markdown",
   "metadata": {},
   "source": [
    "Another strategy to disambiguate cities with identical names is to add information on the states in which the cities are located. To this end, you add a column called state to both DataFrames from the preceding exercises. Again, pandas has been pre-imported as pd and the revenue and managers DataFrames are in your namespace.\n",
    "\n",
    "Your goal in this exercise is to use pd.merge() to merge DataFrames using multiple columns (using 'branch_id', 'city', and 'state' in this case).\n",
    "\n",
    "Are you able to match all your company's branches correctly?\n",
    "\n",
    "- Create a column called 'state' in the DataFrame revenue, consisting of the list ['TX','CO','IL','CA'].\n",
    "- Create a column called 'state' in the DataFrame managers, consisting of the list ['TX','CO','CA','MO'].\n",
    "- Merge the DataFrames revenue and managers using three columns :'branch_id', 'city', and 'state'. Pass them in as a list to the on paramater of pd.merge()."
   ]
  },
  {
   "cell_type": "code",
   "execution_count": 5,
   "metadata": {
    "scrolled": true
   },
   "outputs": [
    {
     "name": "stdout",
     "output_type": "stream",
     "text": [
      "        city  branch_id  revenue state  manager\n",
      "0     Austin         10      100    TX  Charles\n",
      "1     Denver         20       83    CO     Joel\n",
      "2  Mendocino         47      200    CA    Brett\n"
     ]
    }
   ],
   "source": [
    "# preparations\n",
    "revenue = pd.DataFrame({'city':['Austin', 'Denver', 'Springfield', 'Mendocino'],\n",
    "                      'branch_id':[10, 20, 30, 47], 'revenue':[100, 83, 4, 200]})\n",
    "\n",
    "managers = pd.DataFrame({'city':['Austin', 'Denver', 'Mendocino', 'Springfield'],\n",
    "                      'branch_id':[10, 20, 47, 31], 'manager':['Charles', 'Joel', 'Brett', 'Sally']})\n",
    "\n",
    "# Add 'state' column to revenue: revenue['state']\n",
    "revenue['state'] = ['TX','CO','IL','CA']\n",
    "\n",
    "# Add 'state' column to managers: managers['state']\n",
    "managers['state'] = ['TX','CO','CA','MO']\n",
    "\n",
    "# Merge revenue & managers on 'branch_id', 'city', & 'state': combined\n",
    "combined = pd.merge(revenue, managers, on=['branch_id', 'city', 'state'])\n",
    "\n",
    "# Print combined\n",
    "print(combined)"
   ]
  },
  {
   "cell_type": "markdown",
   "metadata": {},
   "source": [
    "# Joining DataFrames"
   ]
  },
  {
   "cell_type": "markdown",
   "metadata": {},
   "source": [
    "### Joining by Index"
   ]
  },
  {
   "cell_type": "markdown",
   "metadata": {},
   "source": [
    "The DataFrames revenue and managers are displayed in the IPython Shell. Here, they are indexed by 'branch_id'.\n",
    "\n",
    "Choose the function call below that will join the DataFrames on their indexes and return 5 rows with index labels [10, 20, 30, 31, 47]. Explore each of them in the IPython Shell to get a better understanding of their functionality.\n",
    "\n",
    "Possible Answers\n",
    "- pd.merge(revenue, managers, on='branch_id').\n",
    "- pd.merge(managers, revenue, how='left').\n",
    " - revenue.join(managers, lsuffix='_rev', rsuffix='_mng', how='outer').\n",
    "- managers.join(revenue, lsuffix='_mgn', rsuffix='_rev', how='left')."
   ]
  },
  {
   "cell_type": "code",
   "execution_count": 6,
   "metadata": {
    "scrolled": true
   },
   "outputs": [
    {
     "name": "stdout",
     "output_type": "stream",
     "text": [
      "                city state_x  revenue     branch state_y  manager\n",
      "branch_id                                                        \n",
      "10            Austin      TX      100     Austin      TX  Charles\n",
      "20            Denver      CO       83     Denver      CO     Joel\n",
      "47         Mendocino      CA      200  Mendocino      CA    Brett \n",
      "\n",
      "        branch state  manager       city  revenue\n",
      "0       Austin    TX  Charles     Austin    100.0\n",
      "1       Denver    CO     Joel     Denver     83.0\n",
      "2    Mendocino    CA    Brett  Mendocino    200.0\n",
      "3  Springfield    MO    Sally        NaN      NaN \n",
      "\n",
      "                  city state_rev  revenue       branch state_mng  manager\n",
      "branch_id                                                                \n",
      "10              Austin        TX    100.0       Austin        TX  Charles\n",
      "20              Denver        CO     83.0       Denver        CO     Joel\n",
      "30         Springfield        IL      4.0          NaN       NaN      NaN\n",
      "31                 NaN       NaN      NaN  Springfield        MO    Sally\n",
      "47           Mendocino        CA    200.0    Mendocino        CA    Brett \n",
      "\n",
      "                branch state_mgn  manager       city state_rev  revenue\n",
      "branch_id                                                              \n",
      "10              Austin        TX  Charles     Austin        TX    100.0\n",
      "20              Denver        CO     Joel     Denver        CO     83.0\n",
      "47           Mendocino        CA    Brett  Mendocino        CA    200.0\n",
      "31         Springfield        MO    Sally        NaN       NaN      NaN \n",
      "\n"
     ]
    }
   ],
   "source": [
    "# preparations\n",
    "revenue = pd.DataFrame({'city':['Austin', 'Denver', 'Springfield', 'Mendocino'],'state':['TX', 'CO', 'IL', 'CA'], \n",
    "                        'branch_id':[10, 20, 30, 47], 'revenue':[100, 83, 4, 200],}).set_index('branch_id')\n",
    "\n",
    "managers = pd.DataFrame({'branch':['Austin', 'Denver', 'Mendocino', 'Springfield'], 'state':['TX', 'CO', 'CA', 'MO'],\n",
    "                      'branch_id':[10, 20, 47, 31], 'manager':['Charles', 'Joel', 'Brett', 'Sally']}).set_index('branch_id')\n",
    "\n",
    "\n",
    "print(pd.merge(revenue, managers, on='branch_id'), '\\n')\n",
    "print(pd.merge(managers, revenue, how='left'), '\\n')\n",
    "print(revenue.join(managers, lsuffix='_rev', rsuffix='_mng', how='outer'), '\\n')\n",
    "print(managers.join(revenue, lsuffix='_mgn', rsuffix='_rev', how='left'), '\\n')"
   ]
  },
  {
   "cell_type": "markdown",
   "metadata": {},
   "source": [
    "### Choosing a joining strategy"
   ]
  },
  {
   "cell_type": "markdown",
   "metadata": {},
   "source": [
    "Suppose you have two DataFrames: students (with columns 'StudentID', 'LastName', 'FirstName', and 'Major') and midterm_results (with columns 'StudentID', 'Q1', 'Q2', and 'Q3' for their scores on midterm questions).\n",
    "\n",
    "You want to combine the DataFrames into a single DataFrame grades, and be able to easily spot which students wrote the midterm and which didn't (their midterm question scores 'Q1', 'Q2', & 'Q3' should be filled with NaN values).\n",
    "\n",
    "You also want to drop rows from midterm_results in which the StudentID is not found in students.\n",
    "\n",
    "Which of the following strategies gives the desired result?\n",
    "\n",
    "\n",
    "- A right join: grades = pd.merge(students, midterm_results, how='right').\n",
    " - A left join: grades = pd.merge(students, midterm_results, how='left').\n",
    "- An inner join: grades = pd.merge(students, midterm_results, how='inner').\n",
    "- An outer join: grades = pd.merge(students, midterm_results, how='outer')."
   ]
  },
  {
   "cell_type": "markdown",
   "metadata": {},
   "source": [
    "### Left & right merging on multiple columns"
   ]
  },
  {
   "cell_type": "markdown",
   "metadata": {},
   "source": [
    "You now have, in addition to the revenue and managers DataFrames from prior exercises, a DataFrame sales that summarizes units sold from specific branches (identified by city and state but not branch_id).\n",
    "\n",
    "Once again, the managers DataFrame uses the label branch in place of city as in the other two DataFrames. Your task here is to employ left and right merges to preserve data and identify where data is missing.\n",
    "\n",
    "By merging revenue and sales with a right merge, you can identify the missing revenue values. Here, you don't need to specify left_on or right_on because the columns to merge on have matching labels.\n",
    "\n",
    "By merging sales and managers with a left merge, you can identify the missing manager. Here, the columns to merge on have conflicting labels, so you must specify left_on and right_on. In both cases, you're looking to figure out how to connect the fields in rows containing Springfield.\n",
    "\n",
    "pandas has been imported as pd and the three DataFrames revenue, managers, and sales have been pre-loaded. They have been printed for you to explore in the IPython Shell.\n",
    "\n",
    "- Execute a right merge using pd.merge() with revenue and sales to yield a new DataFrame revenue_and_sales.\n",
    "- Use how='right' and on=['city', 'state'].\n",
    "- Print the new DataFrame revenue_and_sales. This has been done for you.\n",
    "- Execute a left merge with sales and managers to yield a new DataFrame sales_and_managers.\n",
    "- Use how='left', left_on=['city', 'state'], and right_on=['branch', 'state'].\n",
    "- Print the new DataFrame sales_and_managers. This has been done for you, so hit 'Submit Answer' to see the result!"
   ]
  },
  {
   "cell_type": "code",
   "execution_count": 7,
   "metadata": {
    "scrolled": true
   },
   "outputs": [
    {
     "name": "stdout",
     "output_type": "stream",
     "text": [
      "          city  branch_id  revenue state  units\n",
      "0       Austin       10.0    100.0    TX      2\n",
      "1       Denver       20.0     83.0    CO      4\n",
      "2  Springfield       30.0      4.0    IL      1\n",
      "3    Mendocino       47.0    200.0    CA      1\n",
      "4  Springfield        NaN      NaN    MO      5 \n",
      "\n",
      "          city state  units       branch  branch_id  manager\n",
      "0    Mendocino    CA      1    Mendocino       47.0    Brett\n",
      "1       Denver    CO      4       Denver       20.0     Joel\n",
      "2       Austin    TX      2       Austin       10.0  Charles\n",
      "3  Springfield    MO      5  Springfield       31.0    Sally\n",
      "4  Springfield    IL      1          NaN        NaN      NaN\n"
     ]
    }
   ],
   "source": [
    "# preparations\n",
    "revenue = pd.DataFrame({'city':['Austin', 'Denver', 'Springfield', 'Mendocino'], 'branch_id':[10, 20, 30, 47], \n",
    "                        'revenue':[100, 83, 4, 200], 'state':['TX', 'CO', 'IL', 'CA']})\n",
    "\n",
    "managers = pd.DataFrame({'branch':['Austin', 'Denver', 'Mendocino', 'Springfield'], 'branch_id':[10, 20, 47, 31], \n",
    "                         'state':['TX', 'CO', 'CA', 'MO'], 'manager':['Charles', 'Joel', 'Brett', 'Sally']})\n",
    "sales = pd.DataFrame({'city':['Mendocino', 'Denver', 'Austin', 'Springfield', 'Springfield'], \n",
    "                      'state':['CA', 'CO', 'TX', 'MO', 'IL'], 'units':[1, 4, 2, 5, 1]})\n",
    "\n",
    "# Merge revenue and sales: revenue_and_sales\n",
    "revenue_and_sales = pd.merge(revenue, sales, how='right', on=['city', 'state'])\n",
    "\n",
    "# Print revenue_and_sales\n",
    "print(revenue_and_sales, '\\n')\n",
    "\n",
    "# Merge sales and managers: sales_and_managers\n",
    "sales_and_managers = pd.merge(sales, managers, how='left', left_on=['city', 'state'], right_on=['branch', 'state'])\n",
    "\n",
    "# Print sales_and_managers\n",
    "print(sales_and_managers)"
   ]
  },
  {
   "cell_type": "markdown",
   "metadata": {},
   "source": [
    "### Merging DataFrames with outer join"
   ]
  },
  {
   "cell_type": "markdown",
   "metadata": {},
   "source": [
    "This exercise picks up where the previous one left off. The DataFrames revenue, managers, and sales are pre-loaded into your namespace (and, of course, pandas is imported as pd). Moreover, the merged DataFrames revenue_and_sales and sales_and_managers have been pre-computed exactly as you did in the previous exercise.\n",
    "\n",
    "The merged DataFrames contain enough information to construct a DataFrame with 5 rows with all known information correctly aligned and each branch listed only once. You will try to merge the merged DataFrames on all matching keys (which computes an inner join by default). You can compare the result to an outer join and also to an outer join with restricted subset of columns as keys.\n",
    "\n",
    "- Merge sales_and_managers with revenue_and_sales. Store the result as merge_default.\n",
    "- Print merge_default. This has been done for you.\n",
    "- Merge sales_and_managers with revenue_and_sales using how='outer'. Store the result as merge_outer.\n",
    "- Print merge_outer. This has been done for you.\n",
    "- Merge sales_and_managers with revenue_and_sales only on ['city','state'] using an outer join. Store the result as merge_outer_on and hit 'Submit Answer' to see what the merged DataFrames look like!"
   ]
  },
  {
   "cell_type": "code",
   "execution_count": 8,
   "metadata": {
    "scrolled": false
   },
   "outputs": [
    {
     "name": "stdout",
     "output_type": "stream",
     "text": [
      "        city state  units     branch  branch_id  manager  revenue\n",
      "0  Mendocino    CA      1  Mendocino       47.0    Brett    200.0\n",
      "1     Denver    CO      4     Denver       20.0     Joel     83.0\n",
      "2     Austin    TX      2     Austin       10.0  Charles    100.0 \n",
      "\n",
      "          city state  units       branch  branch_id  manager  revenue\n",
      "0    Mendocino    CA      1    Mendocino       47.0    Brett    200.0\n",
      "1       Denver    CO      4       Denver       20.0     Joel     83.0\n",
      "2       Austin    TX      2       Austin       10.0  Charles    100.0\n",
      "3  Springfield    MO      5  Springfield       31.0    Sally      NaN\n",
      "4  Springfield    IL      1          NaN        NaN      NaN      NaN\n",
      "5  Springfield    IL      1          NaN       30.0      NaN      4.0\n",
      "6  Springfield    MO      5          NaN        NaN      NaN      NaN \n",
      "\n",
      "          city state  units_x       branch  branch_id_x  manager  branch_id_y  \\\n",
      "0    Mendocino    CA        1    Mendocino         47.0    Brett         47.0   \n",
      "1       Denver    CO        4       Denver         20.0     Joel         20.0   \n",
      "2       Austin    TX        2       Austin         10.0  Charles         10.0   \n",
      "3  Springfield    MO        5  Springfield         31.0    Sally          NaN   \n",
      "4  Springfield    IL        1          NaN          NaN      NaN         30.0   \n",
      "\n",
      "   revenue  units_y  \n",
      "0    200.0        1  \n",
      "1     83.0        4  \n",
      "2    100.0        2  \n",
      "3      NaN        5  \n",
      "4      4.0        1  \n"
     ]
    }
   ],
   "source": [
    "# Perform the first merge: merge_default\n",
    "merge_default = pd.merge(sales_and_managers, revenue_and_sales)\n",
    "\n",
    "# Print merge_default\n",
    "print(merge_default, '\\n')\n",
    "\n",
    "# Perform the second merge: merge_outer\n",
    "merge_outer = pd.merge(sales_and_managers, revenue_and_sales, how='outer')\n",
    "\n",
    "# Print merge_outer\n",
    "print(merge_outer, '\\n')\n",
    "\n",
    "# Perform the third merge: merge_outer_on\n",
    "merge_outer_on = pd.merge(sales_and_managers, revenue_and_sales, on=['city', 'state'], how='outer')\n",
    "\n",
    "# Print merge_outer_on\n",
    "print(merge_outer_on)"
   ]
  },
  {
   "cell_type": "markdown",
   "metadata": {},
   "source": [
    "# Ordered merges"
   ]
  },
  {
   "cell_type": "markdown",
   "metadata": {},
   "source": [
    "### Using merge_ordered()"
   ]
  },
  {
   "cell_type": "markdown",
   "metadata": {},
   "source": [
    "This exercise uses pre-loaded DataFrames austin and houston that contain weather data from the cities Austin and Houston respectively. They have been printed in the IPython Shell for you to examine.\n",
    "\n",
    "Weather conditions were recorded on separate days and you need to merge these two DataFrames together such that the dates are ordered. To do this, you'll use pd.merge_ordered(). After you're done, note the order of the rows before and after merging.\n",
    "\n",
    "- Perform an ordered merge on austin and houston using pd.merge_ordered(). Store the result as tx_weather.\n",
    "- Print tx_weather. You should notice that the rows are sorted by the date but it is not possible to tell which observation came from which city.\n",
    "- Perform another ordered merge on austin and houston.\n",
    " - This time, specify the keyword arguments on='date' and suffixes=['_aus','_hus'] so that the rows can be distinguished. Store the result as tx_weather_suff.\n",
    "- Print tx_weather_suff to examine its contents. This has been done for you.\n",
    "- Perform a third ordered merge on austin and houston.\n",
    " - This time, in addition to the on and suffixes parameters, specify the keyword argument fill_method='ffill' to use forward-filling to replace NaN entries with the most recent non-null entry, and hit 'Submit Answer' to examine the contents of the merged DataFrames!"
   ]
  },
  {
   "cell_type": "code",
   "execution_count": 9,
   "metadata": {
    "scrolled": true
   },
   "outputs": [
    {
     "name": "stdout",
     "output_type": "stream",
     "text": [
      "         date ratings\n",
      "0  2016-01-01  Cloudy\n",
      "1  2016-01-04   Rainy\n",
      "2  2016-01-17   Sunny\n",
      "3  2016-02-08  Cloudy\n",
      "4  2016-03-01   Sunny \n",
      "\n",
      "         date ratings_aus ratings_hus\n",
      "0  2016-01-01      Cloudy      Cloudy\n",
      "1  2016-01-04         NaN       Rainy\n",
      "2  2016-01-17       Sunny         NaN\n",
      "3  2016-02-08      Cloudy         NaN\n",
      "4  2016-03-01         NaN       Sunny \n",
      "\n",
      "         date ratings_aus ratings_hus\n",
      "0  2016-01-01      Cloudy      Cloudy\n",
      "1  2016-01-04      Cloudy       Rainy\n",
      "2  2016-01-17       Sunny       Rainy\n",
      "3  2016-02-08      Cloudy       Rainy\n",
      "4  2016-03-01      Cloudy       Sunny\n"
     ]
    }
   ],
   "source": [
    "austin = pd.DataFrame({'date':['2016-01-01','2016-02-08','2016-01-17'], 'ratings':['Cloudy','Cloudy','Sunny']})\n",
    "houston = pd.DataFrame({'date':['2016-01-04','2016-01-01','2016-03-01'], 'ratings':['Rainy','Cloudy','Sunny']})\n",
    "\n",
    "# Perform the first ordered merge: tx_weather\n",
    "tx_weather = pd.merge_ordered(austin, houston)\n",
    "\n",
    "# Print tx_weather\n",
    "print(tx_weather, '\\n')\n",
    "\n",
    "# Perform the second ordered merge: tx_weather_suff\n",
    "tx_weather_suff = pd.merge_ordered(austin, houston, on='date', suffixes=['_aus', '_hus'])\n",
    "\n",
    "# Print tx_weather_suff\n",
    "print(tx_weather_suff, '\\n')\n",
    "\n",
    "# Perform the third ordered merge: tx_weather_ffill\n",
    "tx_weather_ffill = pd.merge_ordered(austin, houston, on='date', suffixes=['_aus', '_hus'], fill_method='ffill')\n",
    "\n",
    "# Print tx_weather_ffill\n",
    "print(tx_weather_ffill)"
   ]
  },
  {
   "cell_type": "markdown",
   "metadata": {},
   "source": [
    "### Using merge_asof()"
   ]
  },
  {
   "cell_type": "markdown",
   "metadata": {},
   "source": [
    "Similar to pd.merge_ordered(), the pd.merge_asof() function will also merge values in order using the on column, but for each row in the left DataFrame, only rows from the right DataFrame whose 'on' column values are less than the left value will be kept.\n",
    "\n",
    "This function can be used to align disparate datetime frequencies without having to first resample.\n",
    "\n",
    "Here, you'll merge monthly oil prices (US dollars) into a full automobile fuel efficiency dataset. The oil and automobile DataFrames have been pre-loaded as oil and auto. The first 5 rows of each have been printed in the IPython Shell for you to explore.\n",
    "\n",
    "These datasets will align such that the first price of the year will be broadcast into the rows of the automobiles DataFrame. This is considered correct since by the start of any given year, most automobiles for that year will have already been manufactured.\n",
    "\n",
    "You'll then inspect the merged DataFrame, resample by year and compute the mean 'Price' and 'mpg'. You should be able to see a trend in these two columns, that you can confirm by computing the Pearson correlation between resampled 'Price' and 'mpg'.\n",
    "\n",
    "- Merge auto and oil using pd.merge_asof() with left_on='yr' and right_on='Date'. Store the result as merged.\n",
    "- Print the tail of merged. This has been done for you.\n",
    "- Resample merged using 'A' (annual frequency), and on='Date'. Select [['mpg','Price']] and aggregate the mean. Store the result as yearly.\n",
    "- Hit Submit Answer to examine the contents of yearly and yearly.corr(), which shows the Pearson correlation between the resampled 'Price' and 'mpg'."
   ]
  },
  {
   "cell_type": "code",
   "execution_count": 10,
   "metadata": {},
   "outputs": [
    {
     "name": "stdout",
     "output_type": "stream",
     "text": [
      "      mpg  cyl  displ  hp  weight  accel         yr  origin             name  \\\n",
      "387  27.0    4  140.0  86    2790   15.6 1982-01-01      US  ford mustang gl   \n",
      "388  44.0    4   97.0  52    2130   24.6 1982-01-01  Europe        vw pickup   \n",
      "389  32.0    4  135.0  84    2295   11.6 1982-01-01      US    dodge rampage   \n",
      "390  28.0    4  120.0  79    2625   18.6 1982-01-01      US      ford ranger   \n",
      "391  31.0    4  119.0  82    2720   19.4 1982-01-01      US       chevy s-10   \n",
      "\n",
      "          Date  Price  \n",
      "387 1982-01-01  33.85  \n",
      "388 1982-01-01  33.85  \n",
      "389 1982-01-01  33.85  \n",
      "390 1982-01-01  33.85  \n",
      "391 1982-01-01  33.85   \n",
      "\n",
      "                  mpg  Price\n",
      "Date                        \n",
      "1970-12-31  17.689655   3.35\n",
      "1971-12-31  21.111111   3.56\n",
      "1972-12-31  18.714286   3.56\n",
      "1973-12-31  17.100000   3.56\n",
      "1974-12-31  22.769231  10.11\n",
      "1975-12-31  20.266667  11.16\n",
      "1976-12-31  21.573529  11.16\n",
      "1977-12-31  23.375000  13.90\n",
      "1978-12-31  24.061111  14.85\n",
      "1979-12-31  25.093103  14.85\n",
      "1980-12-31  33.803704  32.50\n",
      "1981-12-31  30.185714  38.00\n",
      "1982-12-31  32.000000  33.85 \n",
      "\n",
      "            mpg     Price\n",
      "mpg    1.000000  0.948677\n",
      "Price  0.948677  1.000000\n"
     ]
    }
   ],
   "source": [
    "oil = pd.read_csv(oil_prices_path, parse_dates=['Date'])\n",
    "auto = pd.read_csv(auto_path, parse_dates=['yr'])\n",
    "\n",
    "# Merge auto and oil: merged\n",
    "merged = pd.merge_asof(auto, oil, left_on='yr', right_on='Date')\n",
    "\n",
    "# Print the tail of merged\n",
    "print(merged.tail(), '\\n')\n",
    "\n",
    "# Resample merged: yearly\n",
    "yearly = merged.resample('A', on='Date')[['mpg', 'Price']].mean()\n",
    "\n",
    "# Print yearly\n",
    "print(yearly, '\\n')\n",
    "\n",
    "# print yearly.corr()\n",
    "print(yearly.corr())"
   ]
  }
 ],
 "metadata": {
  "kernelspec": {
   "display_name": "Python 3",
   "language": "python",
   "name": "python3"
  },
  "language_info": {
   "codemirror_mode": {
    "name": "ipython",
    "version": 3
   },
   "file_extension": ".py",
   "mimetype": "text/x-python",
   "name": "python",
   "nbconvert_exporter": "python",
   "pygments_lexer": "ipython3",
   "version": "3.7.6"
  }
 },
 "nbformat": 4,
 "nbformat_minor": 4
}
