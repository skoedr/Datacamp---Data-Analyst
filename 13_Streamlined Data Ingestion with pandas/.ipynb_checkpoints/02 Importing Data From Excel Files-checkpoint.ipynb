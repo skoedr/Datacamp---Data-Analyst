{
 "cells": [
  {
   "cell_type": "code",
   "execution_count": 1,
   "metadata": {},
   "outputs": [],
   "source": [
    "import pandas as pd\n",
    "import matplotlib.pyplot as plt\n",
    "\n",
    "path = '..\\\\13_Streamlined Data Ingestion with pandas\\\\data\\\\'"
   ]
  },
  {
   "cell_type": "markdown",
   "metadata": {},
   "source": [
    "# Introduction to spreadsheets"
   ]
  },
  {
   "cell_type": "markdown",
   "metadata": {},
   "source": [
    "### Get data from a spreadsheet\n",
    "In this exercise, you'll create a data frame from a \"base case\" Excel file: one with a single sheet of tabular data. The fcc_survey.xlsx file here has a sample of responses from FreeCodeCamp's annual New Developer Survey. This survey asks participants about their demographics, education, work and home life, plus questions about how they're learning to code. Let's load all of it.\n",
    "\n",
    "pandas has not been pre-loaded in this exercise, so you'll need to import it yourself before using read_excel() to load the spreadsheet.\n",
    "\n",
    "- Load the pandas library as pd.\n",
    "- Read in fcc_survey.xlsx and assign it to the variable survey_responses.\n",
    "- Print the first few records of survey_responses."
   ]
  },
  {
   "cell_type": "code",
   "execution_count": 2,
   "metadata": {
    "scrolled": true
   },
   "outputs": [
    {
     "name": "stdout",
     "output_type": "stream",
     "text": [
      "   FreeCodeCamp New Developer Survey Responses, 2016        Unnamed: 1  \\\n",
      "0  Source: https://www.kaggle.com/freecodecamp/20...               NaN   \n",
      "1                                                Age  AttendedBootcamp   \n",
      "2                                                 28                No   \n",
      "3                                                 22                No   \n",
      "4                                                 19                No   \n",
      "\n",
      "       Unnamed: 2         Unnamed: 3    Unnamed: 4         Unnamed: 5  \\\n",
      "0             NaN                NaN           NaN                NaN   \n",
      "1  BootcampFinish  BootcampLoanYesNo  BootcampName  BootcampRecommend   \n",
      "2             NaN                NaN           NaN                NaN   \n",
      "3             NaN                NaN           NaN                NaN   \n",
      "4             NaN                NaN           NaN                NaN   \n",
      "\n",
      "       Unnamed: 6                     Unnamed: 7            Unnamed: 8  \\\n",
      "0             NaN                            NaN                   NaN   \n",
      "1  ChildrenNumber                 CityPopulation  CodeEventConferences   \n",
      "2             NaN  between 100,000 and 1 million                   NaN   \n",
      "3             NaN  between 100,000 and 1 million                   NaN   \n",
      "4             NaN            more than 1 million                   NaN   \n",
      "\n",
      "             Unnamed: 9  ...          Unnamed: 89         Unnamed: 90  \\\n",
      "0                   NaN  ...                  NaN                 NaN   \n",
      "1  CodeEventDjangoGirls  ...  ResourcePluralSight  ResourceSkillCrush   \n",
      "2                   NaN  ...                  NaN                 NaN   \n",
      "3                   NaN  ...                  NaN                 NaN   \n",
      "4                   NaN  ...                  NaN                 NaN   \n",
      "\n",
      "             Unnamed: 91        Unnamed: 92      Unnamed: 93    Unnamed: 94  \\\n",
      "0                    NaN                NaN              NaN            NaN   \n",
      "1  ResourceStackOverflow  ResourceTreehouse  ResourceUdacity  ResourceUdemy   \n",
      "2                    NaN                NaN              NaN            NaN   \n",
      "3                    NaN                NaN              NaN              1   \n",
      "4                    NaN                NaN              NaN            NaN   \n",
      "\n",
      "         Unnamed: 95                              Unnamed: 96  Unnamed: 97  \\\n",
      "0                NaN                                      NaN          NaN   \n",
      "1  ResourceW3Schools                             SchoolDegree  SchoolMajor   \n",
      "2                NaN           some college credit, no degree          NaN   \n",
      "3                NaN           some college credit, no degree          NaN   \n",
      "4                NaN  high school diploma or equivalent (GED)          NaN   \n",
      "\n",
      "      Unnamed: 98  \n",
      "0             NaN  \n",
      "1  StudentDebtOwe  \n",
      "2           20000  \n",
      "3             NaN  \n",
      "4             NaN  \n",
      "\n",
      "[5 rows x 99 columns]\n"
     ]
    }
   ],
   "source": [
    "# Read spreadsheet and assign it to survey_responses\n",
    "survey_responses = pd.read_excel(path + 'fcc-new-coder-survey.xlsx')\n",
    "\n",
    "# View the head of the data frame\n",
    "print(survey_responses.head())"
   ]
  },
  {
   "cell_type": "markdown",
   "metadata": {},
   "source": [
    "Depending on how and why an Excel file was generated, you might find spreadsheet imports as painless as this. Excel files created for human readers can get quite complicated, with headers, charts, and multiple tables on a sheet."
   ]
  },
  {
   "cell_type": "markdown",
   "metadata": {},
   "source": [
    "### Load a portion of a spreadsheet\n",
    "Spreadsheets meant to be read by people often have multiple tables, e.g., a small business might keep an inventory workbook with tables for different product types on a single sheet. Even tabular data may have header rows of metadata, like the New Developer Survey data here. While the metadata is useful, we don't want it in a data frame. You'll use read_excel()'s skiprows keyword to get just the data. You'll also create a string to pass to usecols to get only columns AD and AW through BA, about future job goals.\n",
    "\n",
    "pandas has been imported as pd.\n",
    "\n",
    "- Create a single string, col_string, specifying that pandas should load column AD and the range AW through BA.\n",
    "- Load fcc_survey_headers.xlsx', setting skiprows and usecols to skip the first two rows of metadata and get only the columns in col_string.\n",
    "- View the selected column names in the resulting data frame."
   ]
  },
  {
   "cell_type": "code",
   "execution_count": 3,
   "metadata": {
    "scrolled": true
   },
   "outputs": [
    {
     "name": "stdout",
     "output_type": "stream",
     "text": [
      "Index(['ExpectedEarning', 'JobApplyWhen', 'JobPref', 'JobRelocateYesNo',\n",
      "       'JobRoleInterest', 'JobWherePref'],\n",
      "      dtype='object')\n"
     ]
    }
   ],
   "source": [
    "# Create string of lettered columns to load\n",
    "col_string = 'AD, AW:BA'\n",
    "\n",
    "# Load data with skiprows and usecols set\n",
    "survey_responses = pd.read_excel(path + 'fcc-new-coder-survey.xlsx', \n",
    "                        skiprows=2, \n",
    "                        usecols=col_string)\n",
    "\n",
    "# View the names of the columns selected\n",
    "print(survey_responses.columns)"
   ]
  },
  {
   "cell_type": "markdown",
   "metadata": {},
   "source": [
    "Nice job! If you need to get a table of data from a sheet with multiple tables on it, you can use skiprows, nrows, and usecols together to delineate which cells of data to read in."
   ]
  },
  {
   "cell_type": "markdown",
   "metadata": {},
   "source": [
    "# Getting data from multiple worksheets"
   ]
  },
  {
   "cell_type": "markdown",
   "metadata": {},
   "source": [
    "### Select a single sheet\n",
    "An Excel workbook may contain multiple sheets of related data. The New Developer Survey response workbook has sheets for different years. Because read_excel() loads only the first sheet by default, you've already gotten survey responses for 2016. Now, you'll create a data frame of 2017 responses using read_excel()'s sheet_name argument in a couple different ways.\n",
    "\n",
    "pandas has been imported as pd.\n",
    "\n",
    "- Create a data frame from the second workbook sheet by passing the sheet's position to"
   ]
  },
  {
   "cell_type": "code",
   "execution_count": 4,
   "metadata": {
    "scrolled": true
   },
   "outputs": [
    {
     "data": {
      "image/png": "[encoded data removed]",
      "text/plain": [
       "<Figure size 432x288 with 1 Axes>"
      ]
     },
     "metadata": {
      "needs_background": "light"
     },
     "output_type": "display_data"
    }
   ],
   "source": [
    "# Create df from second worksheet by referencing its position\n",
    "responses_2017 = pd.read_excel(path + 'fcc-new-coder-survey.xlsx', \n",
    "                               skiprows=2, \n",
    "                               usecols=col_string, \n",
    "                               sheet_name=1)\n",
    "\n",
    "# Graph where people would like to get a developer job\n",
    "job_prefs = responses_2017.groupby(\"JobPref\").JobPref.count()\n",
    "job_prefs.plot.barh()\n",
    "plt.show()"
   ]
  },
  {
   "cell_type": "markdown",
   "metadata": {},
   "source": [
    "- Create a data frame from the 2017 sheet by providing the sheet's name to read_excel()."
   ]
  },
  {
   "cell_type": "code",
   "execution_count": 5,
   "metadata": {
    "scrolled": true
   },
   "outputs": [
    {
     "data": {
      "image/png": "[encoded data removed]",
      "text/plain": [
       "<Figure size 432x288 with 1 Axes>"
      ]
     },
     "metadata": {
      "needs_background": "light"
     },
     "output_type": "display_data"
    }
   ],
   "source": [
    "# Create df from second worksheet by referencing its name\n",
    "responses_2017 = pd.read_excel(path + 'fcc-new-coder-survey.xlsx', \n",
    "                               skiprows=2, \n",
    "                               usecols=col_string,\n",
    "                               sheet_name='2017')\n",
    "\n",
    "# Graph where people would like to get a developer job\n",
    "job_prefs = responses_2017.groupby(\"JobPref\").JobPref.count()\n",
    "job_prefs.plot.barh()\n",
    "plt.show()"
   ]
  },
  {
   "cell_type": "markdown",
   "metadata": {},
   "source": [
    "Although it's possible to get multiple spreadsheets in an Excel file with one call to read_excel(), it can make more sense to use multiple calls if sheets contain very different data or layouts. That way, you can customize other arguments for each sheet."
   ]
  },
  {
   "cell_type": "markdown",
   "metadata": {},
   "source": [
    "### Select multiple sheets\n",
    "So far, you've read Excel files one sheet at a time, which lets you you customize import arguments for each sheet. But if an Excel file has some sheets that you want loaded with the same parameters, you can get them in one go by passing a list of their names or indices to read_excel()'s sheet_name keyword. To get them all, pass None. You'll practice both methods to get data from fcc_survey.xlsx, which has multiple sheets of similarly-formatted data.\n",
    "\n",
    "pandas has been loaded as pd.\n",
    "\n",
    "- Load both the 2016 and 2017 sheets by name with a list and one call to read_excel()."
   ]
  },
  {
   "cell_type": "code",
   "execution_count": 6,
   "metadata": {},
   "outputs": [
    {
     "name": "stdout",
     "output_type": "stream",
     "text": [
      "<class 'dict'>\n"
     ]
    }
   ],
   "source": [
    "# Load both the 2016 and 2017 sheets by name\n",
    "all_survey_data = pd.read_excel(path + 'fcc-new-coder-survey.xlsx', \n",
    "                               skiprows=2, \n",
    "                               usecols=col_string,\n",
    "                               sheet_name=['2016', '2017'])\n",
    "\n",
    "# View the data type of all_survey_data\n",
    "print(type(all_survey_data))"
   ]
  },
  {
   "cell_type": "markdown",
   "metadata": {},
   "source": [
    "- Load the 2016 sheet by its position (0) and 2017 by name. Note the sheet names in the result."
   ]
  },
  {
   "cell_type": "code",
   "execution_count": 7,
   "metadata": {},
   "outputs": [
    {
     "name": "stdout",
     "output_type": "stream",
     "text": [
      "dict_keys([0, '2017'])\n"
     ]
    }
   ],
   "source": [
    "# Load all sheets in the Excel file\n",
    "all_survey_data = pd.read_excel(path + 'fcc-new-coder-survey.xlsx', \n",
    "                               skiprows=2, \n",
    "                               usecols=col_string,\n",
    "                               sheet_name=[0, '2017'])\n",
    "\n",
    "# View the sheet names in all_survey_data\n",
    "print(all_survey_data.keys())"
   ]
  },
  {
   "cell_type": "markdown",
   "metadata": {},
   "source": [
    "- Load all sheets in the Excel file without listing them all."
   ]
  },
  {
   "cell_type": "code",
   "execution_count": 8,
   "metadata": {
    "scrolled": true
   },
   "outputs": [
    {
     "name": "stdout",
     "output_type": "stream",
     "text": [
      "dict_keys(['2016', '2017'])\n"
     ]
    }
   ],
   "source": [
    "# Load all sheets in the Excel file\n",
    "all_survey_data = pd.read_excel(path + 'fcc-new-coder-survey.xlsx', \n",
    "                               skiprows=2, \n",
    "                               usecols=col_string,\n",
    "                               sheet_name=None)\n",
    "\n",
    "# View the sheet names in all_survey_data\n",
    "print(all_survey_data.keys())"
   ]
  },
  {
   "cell_type": "markdown",
   "metadata": {},
   "source": [
    "Well done! Notice that if you load a sheet by its index position, the resulting data frame's name is also the index number, not the sheet name."
   ]
  },
  {
   "cell_type": "markdown",
   "metadata": {},
   "source": [
    "### Work with multiple spreadsheets\n",
    "Workbooks meant primarily for human readers, not machines, may store data about a single subject across multiple sheets. For example, a file may have a different sheet of transactions for each region or year in which a business operated.\n",
    "\n",
    "The FreeCodeCamp New Developer Survey file is set up similarly, with samples of responses from different years in different sheets. Your task here is to compile them in one data frame for analysis.\n",
    "\n",
    "pandas has been imported as pd. All sheets have been read into the ordered dictionary responses, where sheet names are keys and data frames are values, so you can get data frames with the values() method.\n",
    "\n",
    "- Create an empty data frame, all_responses.\n",
    "- Set up a for loop to iterate through the values in the responses dictionary.\n",
    "- Append each data frame to all_responses and reassign the result to the same variable name."
   ]
  },
  {
   "cell_type": "code",
   "execution_count": 9,
   "metadata": {
    "scrolled": true
   },
   "outputs": [
    {
     "name": "stdout",
     "output_type": "stream",
     "text": [
      "Adding 1000 rows\n",
      "Adding 1000 rows\n"
     ]
    },
    {
     "data": {
      "image/png": "[encoded data removed]",
      "text/plain": [
       "<Figure size 432x288 with 1 Axes>"
      ]
     },
     "metadata": {
      "needs_background": "light"
     },
     "output_type": "display_data"
    }
   ],
   "source": [
    "# Load all sheets in the Excel file\n",
    "responses = pd.read_excel(path + 'fcc-new-coder-survey.xlsx', \n",
    "                               skiprows=2,\n",
    "                               sheet_name=None)\n",
    "\n",
    "# Create an empty data frame\n",
    "all_responses = pd.DataFrame()\n",
    "\n",
    "# Set up for loop to iterate through values in responses\n",
    "for df in responses.values():\n",
    "  # Print the number of rows being added\n",
    "  print(\"Adding {} rows\".format(df.shape[0]))\n",
    "  # Append df to all_responses, assign result\n",
    "  all_responses = all_responses.append(df)\n",
    "\n",
    "# Graph employment statuses in sample\n",
    "counts = all_responses.groupby(\"EmploymentStatus\").EmploymentStatus.count()\n",
    "counts.plot.barh()\n",
    "plt.show()"
   ]
  },
  {
   "cell_type": "markdown",
   "metadata": {},
   "source": [
    "Good work! You compiled similar spreadsheets into one dataset. This method works well when you know your spreadsheets use the same column names. If they don't, you can end up with lots of NA values where column names don't align."
   ]
  },
  {
   "cell_type": "markdown",
   "metadata": {},
   "source": [
    "# Modifying imports: true/false data"
   ]
  },
  {
   "cell_type": "markdown",
   "metadata": {},
   "source": [
    "### Set Boolean columns\n",
    "Datasets may have columns that are most accurately modeled as Boolean values. However, pandas usually loads these as floats by default, since defaulting to Booleans may have undesired effects like turning NA values into Trues.\n",
    "\n",
    "fcc_survey_subset.xlsx contains a string ID column and several True/False columns indicating financial stressors. You'll evaluate which non-ID columns have no NA values and therefore can be set as Boolean, then tell read_excel() to load them as such with the dtype argument.\n",
    "\n",
    "pandas is loaded as pd.\n",
    "\n",
    "- Count NA values in each column of survey_data with isna() and sum(). Note which columns besides ID.x, if any, have zero NAs."
   ]
  },
  {
   "cell_type": "code",
   "execution_count": 10,
   "metadata": {
    "scrolled": true
   },
   "outputs": [
    {
     "name": "stdout",
     "output_type": "stream",
     "text": [
      "HasDebt                     0\n",
      "HasFinancialDependents      9\n",
      "HasHomeMortgage           499\n",
      "HasStudentDebt            502\n",
      "ID.x                        0\n",
      "dtype: int64\n"
     ]
    }
   ],
   "source": [
    "cols = 'AP, AH, AI, AK, AM'\n",
    "\n",
    "# Load the data\n",
    "survey_data = pd.read_excel(path + 'fcc-new-coder-survey.xlsx',\n",
    "                            usecols=cols, skiprows=2)\n",
    "\n",
    "# Count NA values in each column\n",
    "print(survey_data.isna().sum())"
   ]
  },
  {
   "cell_type": "markdown",
   "metadata": {},
   "source": [
    "- Set read_excel()'s dtype argument to load the HasDebt column as Boolean data.\n",
    "- Supply the Boolean column name to the print statement to view financial burdens by group."
   ]
  },
  {
   "cell_type": "code",
   "execution_count": 11,
   "metadata": {
    "scrolled": true
   },
   "outputs": [
    {
     "name": "stdout",
     "output_type": "stream",
     "text": [
      "         HasFinancialDependents  HasHomeMortgage  HasStudentDebt\n",
      "HasDebt                                                         \n",
      "False                     112.0              0.0             0.0\n",
      "True                      205.0            151.0           281.0\n"
     ]
    }
   ],
   "source": [
    "# Set dtype to load appropriate column(s) as Boolean data\n",
    "survey_data = pd.read_excel(path + 'fcc-new-coder-survey.xlsx',\n",
    "                            usecols=cols, skiprows=2, dtype={'HasDebt':bool})\n",
    "\n",
    "# View financial burdens by Boolean group\n",
    "print(survey_data.groupby('HasDebt').sum())"
   ]
  },
  {
   "cell_type": "markdown",
   "metadata": {},
   "source": [
    "Great work! Modeling True/False data as Booleans can streamline some data manipulation functions and keep spurious summary statistics, like quartile values, from being calculated. If you want to make a column with NA values Boolean, you can load the data, impute missing values, then re-cast the column as Boolean."
   ]
  },
  {
   "cell_type": "markdown",
   "metadata": {},
   "source": [
    "Set custom true/false values\n",
    "In Boolean columns, pandas automatically recognizes certain values, like \"TRUE\" and 1, as True, and others, like \"FALSE\" and 0, as False. Some datasets, like survey data, can use unrecognized values, such as \"Yes\" and \"No\".\n",
    "\n",
    "For practice purposes, some Boolean columns in the New Developer Survey have been coded this way. You'll make sure they're properly interpreted with the help of the true_values and false_values arguments.\n",
    "\n",
    "pandas is loaded as pd. You can assume the columns you are working with have no missing values.\n",
    "\n",
    "- Load the Excel file, specifying \"Yes\" as a true value and \"No\" as a false value."
   ]
  },
  {
   "cell_type": "code",
   "execution_count": 12,
   "metadata": {
    "scrolled": true
   },
   "outputs": [
    {
     "name": "stdout",
     "output_type": "stream",
     "text": [
      "   AttendedBootcamp  HasDebt  HasFinancialDependents  HasHomeMortgage  \\\n",
      "0             False     True                     1.0              0.0   \n",
      "1             False    False                     0.0              NaN   \n",
      "2             False    False                     0.0              NaN   \n",
      "3             False     True                     0.0              0.0   \n",
      "4             False     True                     0.0              0.0   \n",
      "\n",
      "   HasStudentDebt                              ID.x  \n",
      "0             1.0  cef35615d61b202f1dc794ef2746df14  \n",
      "1             NaN  323e5a113644d18185c743c241407754  \n",
      "2             NaN  b29a1027e5cd062e654a63764157461d  \n",
      "3             1.0  04a11e4bcb573a1261eb0d9948d32637  \n",
      "4             0.0  9368291c93d5d5f5c8cdb1a575e18bec  \n"
     ]
    }
   ],
   "source": [
    "# prep\n",
    "cols = 'B, AP, AH, AI, AK, AM'\n",
    "\n",
    "# Load file with Yes as a True value and No as a False value\n",
    "survey_subset = pd.read_excel(path + 'fcc-new-coder-survey.xlsx', usecols=cols, skiprows=2,\n",
    "                              dtype={\"HasDebt\": bool, \"AttendedBootCampYesNo\": bool},\n",
    "                              true_values=['Yes'],\n",
    "                              false_values=['No'])\n",
    "\n",
    "# View the data\n",
    "print(survey_subset.head())"
   ]
  },
  {
   "cell_type": "markdown",
   "metadata": {},
   "source": [
    "Bravo! Building a data pipeline that sets Boolean dtypes and uses custom true and false values requires being very familiar with the data. It's a good idea to import the data as-is and explore it before doing so."
   ]
  },
  {
   "cell_type": "markdown",
   "metadata": {},
   "source": [
    "# Modifying imports: parsing dates"
   ]
  },
  {
   "cell_type": "markdown",
   "metadata": {},
   "source": [
    "### Parse simple dates\n",
    "pandas does not infer that columns contain datetime data; it interprets them as object or string data unless told otherwise. Correctly modeling datetimes is easy when they are in a standard format -- we can use the parse_dates argument to tell read_excel() to read columns as datetime data.\n",
    "\n",
    "The New Developer Survey responses contain some columns with easy-to-parse timestamps. In this exercise, you'll make sure they're the right data type.\n",
    "\n",
    "pandas has been loaded as pd.\n",
    "\n",
    "- Load fcc_survey.xlsx, making sure that the Part1StartTime column is parsed as datetime data.\n",
    "- View the first few values of the survey_data.Part1StartTime to make sure it contains datetimes."
   ]
  },
  {
   "cell_type": "code",
   "execution_count": 13,
   "metadata": {
    "scrolled": true
   },
   "outputs": [
    {
     "name": "stdout",
     "output_type": "stream",
     "text": [
      "0   2016-03-29 21:23:13\n",
      "1   2016-03-29 21:24:59\n",
      "2   2016-03-29 21:25:37\n",
      "3   2016-03-29 21:21:37\n",
      "4   2016-03-29 21:26:22\n",
      "Name: Part1StartTime, dtype: datetime64[ns]\n"
     ]
    }
   ],
   "source": [
    "# Load file, with Part1StartTime parsed as datetime data\n",
    "survey_data = pd.read_excel(path + 'fcc-new-coder-survey.xlsx', skiprows=2,\n",
    "                            parse_dates=['Part1StartTime'])\n",
    "\n",
    "# Print first few values of Part1StartTime\n",
    "print(survey_data.Part1StartTime.head())"
   ]
  },
  {
   "cell_type": "markdown",
   "metadata": {},
   "source": [
    "pandas can automatically parse many common date and time formats. It can even parse standalone times, without dates, but the parsed times will have the date the code was run."
   ]
  },
  {
   "cell_type": "markdown",
   "metadata": {},
   "source": [
    "### Get datetimes from multiple columns\n",
    "Sometimes, datetime data is split across columns. A dataset might have a date and a time column, or a date may be split into year, month, and day columns.\n",
    "\n",
    "A column in this version of the survey data has been split so that dates are in one column, Part2StartDate, and times are in another, Part2StartTime. Your task is to use read_excel()'s parse_dates argument to combine them into one datetime column with a new name.\n",
    "\n",
    "pandas has been imported as pd.\n",
    "\n",
    "- Create a dictionary, datetime_cols indicating that the new column Part2Start should consist of Part2StartDate and Part2StartTime.\n",
    "- Load the survey response file, supplying the dictionary to the parse_dates argument to create a new Part2Start column.\n",
    "- View summary statistics about the new Part2Start column with the describe() method."
   ]
  },
  {
   "cell_type": "code",
   "execution_count": 14,
   "metadata": {
    "scrolled": true
   },
   "outputs": [
    {
     "name": "stdout",
     "output_type": "stream",
     "text": [
      "count                    1000\n",
      "unique                    985\n",
      "top       2016-03-30 01:29:27\n",
      "freq                        2\n",
      "first     2016-03-29 21:24:57\n",
      "last      2016-03-30 09:08:18\n",
      "Name: Part2Start, dtype: object\n"
     ]
    }
   ],
   "source": [
    "# Create dict of columns to combine into new datetime column\n",
    "datetime_cols = {\"Part2Start\": [\"Part2StartDate\", \"Part2StartTime\"]}\n",
    "\n",
    "\n",
    "# Load file, supplying the dict to parse_dates\n",
    "survey_data = pd.read_excel(path + 'fcc-new-coder-survey.xlsx', skiprows=2,\n",
    "                            parse_dates=datetime_cols)\n",
    "\n",
    "# View summary statistics about Part2Start\n",
    "print(survey_data.Part2Start.describe())"
   ]
  },
  {
   "cell_type": "markdown",
   "metadata": {
    "scrolled": true
   },
   "source": [
    "Well done! Note that the keys in a dictionary passed to parse_dates cannot be names of columns already in the data frame. Also, when combining columns to parse, their order in the list does not matter."
   ]
  },
  {
   "cell_type": "markdown",
   "metadata": {},
   "source": [
    "Parse non-standard date formats\n",
    "So far, you've parsed dates that pandas could interpret automatically. But if a date is in a non-standard format, like 19991231 for December 31, 1999, it can't be parsed at the import stage. Instead, use pd.to_datetime() to convert strings to dates after import.\n",
    "\n",
    "The New Developer Survey data has been loaded as survey_data but contains an unparsed datetime field. We'll use to_datetime() to convert it, passing in the column to convert and a string representing the date format used.\n",
    "\n",
    "For more on date format codes, see this reference. Some common codes are year (%Y), month (%m), day (%d), hour (%H), minute (%M), and second (%S).\n",
    "\n",
    "pandas has been imported as pd.\n",
    "\n",
    "- Parse Part2EndTime using pd.to_datetime(), the format keyword argument, and the format string you just identified ('%m%d%Y %H:%M:%S'). Assign the result back to the Part2EndTime column."
   ]
  },
  {
   "cell_type": "code",
   "execution_count": 15,
   "metadata": {},
   "outputs": [],
   "source": [
    "# Dataset fehlt\n",
    "# Parse datetimes and assign result back to Part2EndTime\n",
    "# survey_data[\"Part2EndTime\"] = pd.to_datetime(survey_data[\"Part2EndTime\"], format='%m%d%Y %H:%M:%S')"
   ]
  },
  {
   "cell_type": "markdown",
   "metadata": {},
   "source": [
    "- Print the head of Part2EndTime to confirm the column now contains datetime values."
   ]
  },
  {
   "cell_type": "code",
   "execution_count": 16,
   "metadata": {},
   "outputs": [],
   "source": [
    "# Print first few values of Part2EndTime\n",
    "# print(survey_data[\"Part2EndTime\"].head())"
   ]
  },
  {
   "cell_type": "markdown",
   "metadata": {},
   "source": [
    "Nice work! Datetime information comes in a variety of formats, and having the skills to parse them lets you perform time-specific operations like calculating intervals."
   ]
  }
 ],
 "metadata": {
  "kernelspec": {
   "display_name": "Python 3",
   "language": "python",
   "name": "python3"
  },
  "language_info": {
   "codemirror_mode": {
    "name": "ipython",
    "version": 3
   },
   "file_extension": ".py",
   "mimetype": "text/x-python",
   "name": "python",
   "nbconvert_exporter": "python",
   "pygments_lexer": "ipython3",
   "version": "3.7.6"
  }
 },
 "nbformat": 4,
 "nbformat_minor": 4
}
